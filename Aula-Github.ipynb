{
 "cells": [
  {
   "cell_type": "markdown",
   "id": "786c6d3f",
   "metadata": {},
   "source": [
    "# Aula de Github"
   ]
  },
  {
   "cell_type": "markdown",
   "id": "fc2d8234",
   "metadata": {},
   "source": [
    "## Criando sua conta"
   ]
  },
  {
   "cell_type": "markdown",
   "id": "4f2e9365",
   "metadata": {},
   "source": [
    "Nesta aula iremos aprender a utilizar o Github.<br>\n",
    "O primeiro passo será criar uma conta no github. Vá ao endereço www.github.com e clique em \"Sign Up\", no canto superior direito. Uma dica, o Github serve como portfólio no futuro, então tentem escolher um nome de usuário com viés profissional."
   ]
  },
  {
   "cell_type": "markdown",
   "id": "4f10c017",
   "metadata": {},
   "source": [
    "## Criando um repositório"
   ]
  },
  {
   "cell_type": "markdown",
   "id": "0ebb572c",
   "metadata": {},
   "source": [
    "Agora que sua conta foi criada, precisamos criar um repositório.<br>\n",
    "Em sua página inicial no canto direito superior há um botão chamado \"New\", clique nele.<br>\n",
    "Agora várias informações serão necessárias, como mostrado na imagem abaixo. O que significa cada campo?<br>\n",
    "- Repository Name: Este é o nome do repositório, pense com o grupo um nome legal para ele.\n",
    "- Description: É uma breve descrição do que terá no repositório.\n",
    "- Public/Private: Se o repositório será público ou privado. Para a disciplina devemos deixar público.\n",
    "- Add a README file: Marque esta caixa, pois é no README que colocaremos as principais informações do código.\n",
    "- Choose a license: Vamos escolher a licença GNU General Public License v3.0. Recomendo sempre a escolha de licenças de software livre quando possível, pois o conhecimento é para ser compartilhado.\n",
    "- Agora cliquem em \"Create Repository\" para criar o repositório do seu trabalho da disciplina.\n",
    "<br><br>\n",
    "\n",
    "<div>\n",
    "    <img src=\"new-rep.png\" width=\"500\"/>\n",
    "</div>"
   ]
  },
  {
   "cell_type": "markdown",
   "id": "b8cc870f",
   "metadata": {},
   "source": [
    "## Clonando o repositório"
   ]
  },
  {
   "cell_type": "markdown",
   "id": "f430214f",
   "metadata": {},
   "source": [
    "Vocês já devem ter o github instalado em suas máquinas. Então vamos usá-lo!<br>\n",
    "Crie uma nova pasta onde vocês colocarão seu código, nessa pasta, clique com o botão direito e depois em git bash here, como mostrado na figura abaixo:\n",
    "<div>\n",
    "    <img src=\"git-bash.png\" width=\"600\"/>\n",
    "</div>"
   ]
  },
  {
   "cell_type": "markdown",
   "id": "169a5cc6",
   "metadata": {},
   "source": [
    "Com isso, uma tela como esta será aberta:\n",
    "<div>\n",
    "    <img src=\"terminal.png\" width=\"500\"/>\n",
    "</div>"
   ]
  },
  {
   "cell_type": "markdown",
   "id": "5821debf",
   "metadata": {},
   "source": [
    "Ótimo, agora podemos começar com o github.<br>\n",
    "Vamos clonar o repositório recém criado, para isso precisamos do endereço do repositório, que pode ser obtido clicando no botão verde escrito \"<> Code\", então logo ao lado do endereço a um botão para copiar o endereço, como mostrado na figura abaixo:\n",
    "<div>\n",
    "    <img src=\"clone-rep.png\" width=\"500\"/>\n",
    "</div>"
   ]
  },
  {
   "cell_type": "markdown",
   "id": "27fb445b",
   "metadata": {},
   "source": [
    "Vamos clonar o repositório com o seguinte comando:<br>\n",
    "_git clone endereço copiado_ <br>\n",
    "Na figura abaixo o procedimento é mostrado:<br>\n",
    "<div>\n",
    "    <img src=\"clone-rep-cmd.png\" width=\"400\"/>\n",
    "</div>"
   ]
  },
  {
   "cell_type": "markdown",
   "id": "47148266",
   "metadata": {},
   "source": [
    "Agora o repositório está clonado, então podemos começar a trabalhar no código.<br>\n",
    "Notem que, se você alterar o código e outro colega também alterar ao mesmo tempo, conflitos ocorrerão, então se coordenem para evitar este tipo de problema.<br>\n",
    "Vamos colocar o código nesta pasta, e então enviá-lo para o Github. Copiem o código para a pasta agora.<br>"
   ]
  },
  {
   "cell_type": "code",
   "execution_count": null,
   "id": "99dddf35",
   "metadata": {},
   "outputs": [],
   "source": []
  }
 ],
 "metadata": {
  "kernelspec": {
   "display_name": "Python 3 (ipykernel)",
   "language": "python",
   "name": "python3"
  },
  "language_info": {
   "codemirror_mode": {
    "name": "ipython",
    "version": 3
   },
   "file_extension": ".py",
   "mimetype": "text/x-python",
   "name": "python",
   "nbconvert_exporter": "python",
   "pygments_lexer": "ipython3",
   "version": "3.9.12"
  }
 },
 "nbformat": 4,
 "nbformat_minor": 5
}
